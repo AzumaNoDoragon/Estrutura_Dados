{
  "nbformat": 4,
  "nbformat_minor": 0,
  "metadata": {
    "colab": {
      "provenance": []
    },
    "kernelspec": {
      "name": "python3",
      "display_name": "Python 3"
    },
    "language_info": {
      "name": "python"
    }
  },
  "cells": [
    {
      "cell_type": "markdown",
      "source": [
        "### Funções - Introdução"
      ],
      "metadata": {
        "id": "ImJvo7T1tDyi"
      }
    },
    {
      "cell_type": "markdown",
      "source": [
        "```python\n",
        "def nomeFuncao(parametros):\n",
        "  return alguma_coisa\n",
        "```"
      ],
      "metadata": {
        "id": "iJAUyrIxtVjx"
      }
    },
    {
      "cell_type": "code",
      "source": [
        "# Exemplo: Recebe dois valores\n",
        "# e retorna a soma\n",
        "def soma(x,y):\n",
        "  return x+y"
      ],
      "metadata": {
        "id": "boWcEOGltC7D"
      },
      "execution_count": 1,
      "outputs": []
    },
    {
      "cell_type": "code",
      "source": [
        "print(soma(4,4))"
      ],
      "metadata": {
        "id": "2Gnlnm34uHey",
        "colab": {
          "base_uri": "https://localhost:8080/"
        },
        "outputId": "2cec6140-a786-42a1-a8a1-f0a7f7ad9362"
      },
      "execution_count": 6,
      "outputs": [
        {
          "output_type": "stream",
          "name": "stdout",
          "text": [
            "8\n"
          ]
        }
      ]
    },
    {
      "cell_type": "code",
      "source": [
        "# Funcao  soma2: recebe dois valores e retorna\n",
        "# o primeiro parâmetro com a soma + 2 e o segundo parâmetro\n",
        "#  com a soma + 4\n",
        "# Retorna dois valores por parâmetro\n",
        "def soma2(x,y):\n",
        "  return x+2, y+4"
      ],
      "metadata": {
        "id": "sFVCpi5nuZ3R"
      },
      "execution_count": 7,
      "outputs": []
    },
    {
      "cell_type": "code",
      "source": [
        "print(soma2(2,2))"
      ],
      "metadata": {
        "id": "m-7xX-r8vIgZ",
        "colab": {
          "base_uri": "https://localhost:8080/"
        },
        "outputId": "e929b0c8-2e08-433b-962a-723ec4acd331"
      },
      "execution_count": 8,
      "outputs": [
        {
          "output_type": "stream",
          "name": "stdout",
          "text": [
            "(4, 6)\n"
          ]
        }
      ]
    },
    {
      "cell_type": "code",
      "source": [
        "var1,var2 = soma2(2,2)"
      ],
      "metadata": {
        "id": "hXK3dyzLrBpR"
      },
      "execution_count": 9,
      "outputs": []
    },
    {
      "cell_type": "code",
      "source": [
        "print(var1,var2)"
      ],
      "metadata": {
        "id": "qgSaPYw3vqUC",
        "colab": {
          "base_uri": "https://localhost:8080/"
        },
        "outputId": "3643c387-d38f-414a-ad9e-9602be3bac6a"
      },
      "execution_count": 10,
      "outputs": [
        {
          "output_type": "stream",
          "name": "stdout",
          "text": [
            "4 6\n"
          ]
        }
      ]
    },
    {
      "cell_type": "markdown",
      "source": [
        "Faça uma função que receba uma temperatura # em celsius e retorne a temperatura em fahrenheit\n",
        "\n",
        "$F = \\left(\\frac{9}{5} \\times tempCelsius\\right) + 32$"
      ],
      "metadata": {
        "id": "_TDuGgotw00R"
      }
    },
    {
      "cell_type": "code",
      "source": [
        "def convTemp(tempC):\n",
        "  return (9/5 * tempC) + 32"
      ],
      "metadata": {
        "id": "oiF3S-LGv5Nh"
      },
      "execution_count": 11,
      "outputs": []
    },
    {
      "cell_type": "code",
      "source": [
        "print(convTemp(10))"
      ],
      "metadata": {
        "colab": {
          "base_uri": "https://localhost:8080/"
        },
        "id": "GUkzpxmiqssR",
        "outputId": "56891981-5446-40d7-857e-dc079d29d814"
      },
      "execution_count": 14,
      "outputs": [
        {
          "output_type": "stream",
          "name": "stdout",
          "text": [
            "50.0\n"
          ]
        }
      ]
    },
    {
      "cell_type": "markdown",
      "source": [
        "### `*args` e `**kwargs`\n",
        "\n",
        "* **`*args`**: empacota argumentos **posicionais** extras em uma **tupla**.\n",
        "* **`**kwargs`**: empacota argumentos **nomeados** extras em um **dicionário**.\n",
        "\n",
        "**Quando usar cada um?**\n",
        "\n",
        "* Use `*args` quando não sabe quantos argumentos posicionais serão passados.\n",
        "* Use `**kwargs` quando não sabe quantos argumentos nomeados serão passados.\n",
        "* É comum combinar os dois para funções mais flexíveis.\n",
        "\n"
      ],
      "metadata": {
        "id": "eC0n4dBoql9V"
      }
    },
    {
      "cell_type": "markdown",
      "source": [
        "**Exemplo args**\n",
        "* Funciona a partir de uma tupla"
      ],
      "metadata": {
        "id": "OKuNiPooulbq"
      }
    },
    {
      "cell_type": "code",
      "source": [
        "# Exemplo com *args\n",
        "def somaValores(*args):\n",
        "  print(f\"{type(args)} - {args[1]}\")\n",
        "  return sum(args)"
      ],
      "metadata": {
        "id": "v1R8K8g7ro3x"
      },
      "execution_count": 25,
      "outputs": []
    },
    {
      "cell_type": "code",
      "source": [
        "print(somaValores(1,2,100,200,20))"
      ],
      "metadata": {
        "colab": {
          "base_uri": "https://localhost:8080/"
        },
        "id": "paBUvK2Lr6ah",
        "outputId": "57570b1a-1ec6-4125-8e77-d6a97af47d68"
      },
      "execution_count": 26,
      "outputs": [
        {
          "output_type": "stream",
          "name": "stdout",
          "text": [
            "<class 'tuple'> - 2\n",
            "323\n"
          ]
        }
      ]
    },
    {
      "cell_type": "code",
      "source": [
        "def imprimeDados(*args):\n",
        "  print(args)"
      ],
      "metadata": {
        "id": "r5Dr4_vLtkhL"
      },
      "execution_count": 27,
      "outputs": []
    },
    {
      "cell_type": "code",
      "source": [
        "imprimeDados(10, \"Joao\", 2.50, \"UTFPR\")"
      ],
      "metadata": {
        "colab": {
          "base_uri": "https://localhost:8080/"
        },
        "id": "WBpmluLvr6QK",
        "outputId": "616f2a3e-373e-4008-b78c-e7c14ebbbb19"
      },
      "execution_count": 28,
      "outputs": [
        {
          "output_type": "stream",
          "name": "stdout",
          "text": [
            "(10, 'Joao', 2.5, 'UTFPR')\n"
          ]
        }
      ]
    },
    {
      "cell_type": "markdown",
      "source": [
        "**Exemplo kwargs**\n",
        "* Funciona a partir de um dicionário"
      ],
      "metadata": {
        "id": "4Yf3gU0Sutrp"
      }
    },
    {
      "cell_type": "code",
      "source": [
        "# Chave: valor\n",
        "d = {\"Nome\": \"Joao\", \"Iadade\":30}"
      ],
      "metadata": {
        "id": "dSPC2nLsuxFx"
      },
      "execution_count": 29,
      "outputs": []
    },
    {
      "cell_type": "code",
      "source": [
        "type(d)"
      ],
      "metadata": {
        "colab": {
          "base_uri": "https://localhost:8080/"
        },
        "id": "9slYb41avVSp",
        "outputId": "c6b8660f-2c56-4d11-b815-bb4614c3b0e5"
      },
      "execution_count": 30,
      "outputs": [
        {
          "output_type": "execute_result",
          "data": {
            "text/plain": [
              "dict"
            ]
          },
          "metadata": {},
          "execution_count": 30
        }
      ]
    },
    {
      "cell_type": "code",
      "source": [
        "print(d.values())"
      ],
      "metadata": {
        "colab": {
          "base_uri": "https://localhost:8080/"
        },
        "id": "2Rp-2iwvvXtx",
        "outputId": "1f91f117-a0d6-4842-abec-659460c5b54e"
      },
      "execution_count": 33,
      "outputs": [
        {
          "output_type": "stream",
          "name": "stdout",
          "text": [
            "dict_values(['Joao', 30])\n"
          ]
        }
      ]
    },
    {
      "cell_type": "code",
      "source": [
        "d[\"Nome\"]"
      ],
      "metadata": {
        "colab": {
          "base_uri": "https://localhost:8080/",
          "height": 35
        },
        "id": "gb3PMCSEvhzZ",
        "outputId": "35b86af6-d676-4bb3-a42b-b4aad71ed23c"
      },
      "execution_count": 34,
      "outputs": [
        {
          "output_type": "execute_result",
          "data": {
            "text/plain": [
              "'Joao'"
            ],
            "application/vnd.google.colaboratory.intrinsic+json": {
              "type": "string"
            }
          },
          "metadata": {},
          "execution_count": 34
        }
      ]
    },
    {
      "cell_type": "code",
      "source": [
        "def imprimeDadosNomeados(**kwargs):\n",
        "  print(kwargs.keys())\n",
        "  print(kwargs.values())"
      ],
      "metadata": {
        "id": "Q9qbiruXvmdi"
      },
      "execution_count": 41,
      "outputs": []
    },
    {
      "cell_type": "code",
      "source": [
        "imprimeDadosNomeados(agua=\"Natural\", suco=\"Laranja\", prato=\"Sanduíche\")"
      ],
      "metadata": {
        "colab": {
          "base_uri": "https://localhost:8080/"
        },
        "id": "g4g-Fevnv7ui",
        "outputId": "3fd86564-8a9a-4bed-9694-c2d9dcf90f22"
      },
      "execution_count": 42,
      "outputs": [
        {
          "output_type": "stream",
          "name": "stdout",
          "text": [
            "dict_keys(['agua', 'suco', 'prato'])\n",
            "dict_values(['Natural', 'Laranja', 'Sanduíche'])\n"
          ]
        }
      ]
    },
    {
      "cell_type": "code",
      "source": [
        "imprimeDadosNomeados(nome=\"Joao\", idade=30, cidade=\"Londrina\")"
      ],
      "metadata": {
        "colab": {
          "base_uri": "https://localhost:8080/"
        },
        "id": "SZYzkzeAwoD5",
        "outputId": "38575815-a685-45ff-9735-e439ebff0762"
      },
      "execution_count": 43,
      "outputs": [
        {
          "output_type": "stream",
          "name": "stdout",
          "text": [
            "dict_keys(['nome', 'idade', 'cidade'])\n",
            "dict_values(['Joao', 30, 'Londrina'])\n"
          ]
        }
      ]
    },
    {
      "cell_type": "markdown",
      "source": [
        "**Combinando args e kwargs**"
      ],
      "metadata": {
        "id": "6tsbUsEuxAKx"
      }
    },
    {
      "cell_type": "code",
      "source": [
        "def imprimeDados3(*args, **kwargs):\n",
        "  print(f\"Idade: {args[0]} - Cidade: {args[1]}\")\n",
        "  print(kwargs)"
      ],
      "metadata": {
        "id": "mnoKn9wYxGDC"
      },
      "execution_count": 46,
      "outputs": []
    },
    {
      "cell_type": "code",
      "source": [
        "# posicao 0: idade\n",
        "# posicao 1: cidade\n",
        "# posicao 2... nomeado\n",
        "imprimeDados3(20,\"Londrina\",nome=\"Joao\", RG = \"4444444-4\")"
      ],
      "metadata": {
        "colab": {
          "base_uri": "https://localhost:8080/"
        },
        "id": "nayLLWJPxTBB",
        "outputId": "90937292-8515-4d43-ec58-b1c5cb67f413"
      },
      "execution_count": 47,
      "outputs": [
        {
          "output_type": "stream",
          "name": "stdout",
          "text": [
            "Idade: 20 - Cidade: Londrina\n",
            "{'nome': 'Joao', 'RG': '4444444-4'}\n"
          ]
        }
      ]
    },
    {
      "cell_type": "markdown",
      "source": [
        "## Exercícios"
      ],
      "metadata": {
        "id": "l_X4kJzMqWJF"
      }
    },
    {
      "cell_type": "markdown",
      "source": [
        "### Exercício 1: Soma de Números com `*args`"
      ],
      "metadata": {
        "id": "tBLRR7SHqYj6"
      }
    },
    {
      "cell_type": "code",
      "source": [
        "def soma_numeros(*args):\n",
        "  print(sum(args))\n",
        "\n",
        "soma_numeros(1,2,3,4)\n",
        "soma_numeros(1,3,4)\n",
        "soma_numeros(2,3,4,'10')"
      ],
      "metadata": {
        "id": "bpU0bPMgqZdU",
        "colab": {
          "base_uri": "https://localhost:8080/",
          "height": 332
        },
        "outputId": "55866ac4-f379-48ec-a994-0bc1a55b596a"
      },
      "execution_count": 54,
      "outputs": [
        {
          "output_type": "stream",
          "name": "stdout",
          "text": [
            "10\n",
            "8\n"
          ]
        },
        {
          "output_type": "error",
          "ename": "TypeError",
          "evalue": "unsupported operand type(s) for +: 'int' and 'str'",
          "traceback": [
            "\u001b[0;31m---------------------------------------------------------------------------\u001b[0m",
            "\u001b[0;31mTypeError\u001b[0m                                 Traceback (most recent call last)",
            "\u001b[0;32m/tmp/ipython-input-779973229.py\u001b[0m in \u001b[0;36m<cell line: 0>\u001b[0;34m()\u001b[0m\n\u001b[1;32m      4\u001b[0m \u001b[0msoma_numeros\u001b[0m\u001b[0;34m(\u001b[0m\u001b[0;36m1\u001b[0m\u001b[0;34m,\u001b[0m\u001b[0;36m2\u001b[0m\u001b[0;34m,\u001b[0m\u001b[0;36m3\u001b[0m\u001b[0;34m,\u001b[0m\u001b[0;36m4\u001b[0m\u001b[0;34m)\u001b[0m\u001b[0;34m\u001b[0m\u001b[0;34m\u001b[0m\u001b[0m\n\u001b[1;32m      5\u001b[0m \u001b[0msoma_numeros\u001b[0m\u001b[0;34m(\u001b[0m\u001b[0;36m1\u001b[0m\u001b[0;34m,\u001b[0m\u001b[0;36m3\u001b[0m\u001b[0;34m,\u001b[0m\u001b[0;36m4\u001b[0m\u001b[0;34m)\u001b[0m\u001b[0;34m\u001b[0m\u001b[0;34m\u001b[0m\u001b[0m\n\u001b[0;32m----> 6\u001b[0;31m \u001b[0msoma_numeros\u001b[0m\u001b[0;34m(\u001b[0m\u001b[0;36m2\u001b[0m\u001b[0;34m,\u001b[0m\u001b[0;36m3\u001b[0m\u001b[0;34m,\u001b[0m\u001b[0;36m4\u001b[0m\u001b[0;34m,\u001b[0m\u001b[0;34m'10'\u001b[0m\u001b[0;34m)\u001b[0m\u001b[0;34m\u001b[0m\u001b[0;34m\u001b[0m\u001b[0m\n\u001b[0m",
            "\u001b[0;32m/tmp/ipython-input-779973229.py\u001b[0m in \u001b[0;36msoma_numeros\u001b[0;34m(*args)\u001b[0m\n\u001b[1;32m      1\u001b[0m \u001b[0;32mdef\u001b[0m \u001b[0msoma_numeros\u001b[0m\u001b[0;34m(\u001b[0m\u001b[0;34m*\u001b[0m\u001b[0margs\u001b[0m\u001b[0;34m)\u001b[0m\u001b[0;34m:\u001b[0m\u001b[0;34m\u001b[0m\u001b[0;34m\u001b[0m\u001b[0m\n\u001b[0;32m----> 2\u001b[0;31m   \u001b[0mprint\u001b[0m\u001b[0;34m(\u001b[0m\u001b[0msum\u001b[0m\u001b[0;34m(\u001b[0m\u001b[0margs\u001b[0m\u001b[0;34m)\u001b[0m\u001b[0;34m)\u001b[0m\u001b[0;34m\u001b[0m\u001b[0;34m\u001b[0m\u001b[0m\n\u001b[0m\u001b[1;32m      3\u001b[0m \u001b[0;34m\u001b[0m\u001b[0m\n\u001b[1;32m      4\u001b[0m \u001b[0msoma_numeros\u001b[0m\u001b[0;34m(\u001b[0m\u001b[0;36m1\u001b[0m\u001b[0;34m,\u001b[0m\u001b[0;36m2\u001b[0m\u001b[0;34m,\u001b[0m\u001b[0;36m3\u001b[0m\u001b[0;34m,\u001b[0m\u001b[0;36m4\u001b[0m\u001b[0;34m)\u001b[0m\u001b[0;34m\u001b[0m\u001b[0;34m\u001b[0m\u001b[0m\n\u001b[1;32m      5\u001b[0m \u001b[0msoma_numeros\u001b[0m\u001b[0;34m(\u001b[0m\u001b[0;36m1\u001b[0m\u001b[0;34m,\u001b[0m\u001b[0;36m3\u001b[0m\u001b[0;34m,\u001b[0m\u001b[0;36m4\u001b[0m\u001b[0;34m)\u001b[0m\u001b[0;34m\u001b[0m\u001b[0;34m\u001b[0m\u001b[0m\n",
            "\u001b[0;31mTypeError\u001b[0m: unsupported operand type(s) for +: 'int' and 'str'"
          ]
        }
      ]
    },
    {
      "cell_type": "markdown",
      "source": [
        "### Exercício 2: Detalhes do Pedido com `*args` e `**kwargs`\n",
        "\n",
        "**Enunciado**: Escreva uma função `detalhes_pedido` que recebe uma lista de itens como `*args` e detalhes do cliente como `**kwargs` (ex.: nome e endereço). A função deve imprimir cada item do pedido seguido dos detalhes do cliente."
      ],
      "metadata": {
        "id": "e_nR4X6Uq1Np"
      }
    },
    {
      "cell_type": "markdown",
      "source": [
        "Posicinais:\n",
        "- Item: Pasta de  dente\n",
        "- Item: Escova\n",
        "- Item: Sabonete\n",
        "\n",
        "Nomeados:\n",
        "- Nome: Joao\n",
        "- Endereco: AV Carazai\n",
        "- Telefone: 98888-9999"
      ],
      "metadata": {
        "id": "bSN2WB39vDUe"
      }
    },
    {
      "cell_type": "code",
      "source": [
        "def detalhes_pedido(*args, **kwargs):\n",
        "  print(f\"Pedido: {args}\")\n",
        "  print(f\"Dados cliente: {kwargs}\")"
      ],
      "metadata": {
        "id": "2hL8pUJS8KZK"
      },
      "execution_count": 66,
      "outputs": []
    },
    {
      "cell_type": "code",
      "source": [
        "detalhes_pedido(\"pasta de dente\", \"escolva\", \"Sabonete\",\n",
        "                \"Café\",\"Chocolate\",\n",
        "                nome=\"Joao\", Endereco=\"Av. Carazai\",\n",
        "                Telefone=\"99999-9999\")"
      ],
      "metadata": {
        "colab": {
          "base_uri": "https://localhost:8080/"
        },
        "id": "27bgRQdh8RHt",
        "outputId": "131432c0-c98c-4537-981f-2561dc58ab8b"
      },
      "execution_count": 68,
      "outputs": [
        {
          "output_type": "stream",
          "name": "stdout",
          "text": [
            "Pedido: ('pasta de dente', 'escolva', 'Sabonete', 'Café', 'Chocolate')\n",
            "Dados cliente: {'nome': 'Joao', 'Endereco': 'Av. Carazai', 'Telefone': '99999-9999'}\n"
          ]
        }
      ]
    },
    {
      "cell_type": "code",
      "source": [
        "# Saída Formatada por Pedido\n",
        "def detalhes_pedido_formatado(*args, **kwargs):\n",
        "  for i, item in enumerate(args,start=1):\n",
        "    print(f\"Pedido {i}: {item}\")\n",
        "  print(f\"Dados cliente: {kwargs}\")"
      ],
      "metadata": {
        "id": "hf8iJ51H2fAb"
      },
      "execution_count": 64,
      "outputs": []
    },
    {
      "cell_type": "code",
      "source": [
        "detalhes_pedido_formatado(\"pasta de dente\", \"escolva\", \"Sabonete\",\n",
        "                \"Café\",\"Chocolate\",\n",
        "                nome=\"Joao\", Endereco=\"Av. Carazai\",\n",
        "                Telefone=\"99999-9999\")"
      ],
      "metadata": {
        "colab": {
          "base_uri": "https://localhost:8080/"
        },
        "id": "waUVYkAW2rED",
        "outputId": "4740a96d-eaef-4416-9640-bdd40c6d73fe"
      },
      "execution_count": 69,
      "outputs": [
        {
          "output_type": "stream",
          "name": "stdout",
          "text": [
            "Pedido 1: pasta de dente\n",
            "Pedido 2: escolva\n",
            "Pedido 3: Sabonete\n",
            "Pedido 4: Café\n",
            "Pedido 5: Chocolate\n",
            "Dados cliente: {'nome': 'Joao', 'Endereco': 'Av. Carazai', 'Telefone': '99999-9999'}\n"
          ]
        }
      ]
    }
  ]
}