{
  "nbformat": 4,
  "nbformat_minor": 0,
  "metadata": {
    "colab": {
      "provenance": []
    },
    "kernelspec": {
      "name": "python3",
      "display_name": "Python 3"
    },
    "language_info": {
      "name": "python"
    }
  },
  "cells": [
    {
      "cell_type": "code",
      "execution_count": null,
      "metadata": {
        "id": "nSvCjtqlPZwB"
      },
      "outputs": [],
      "source": [
        "# Instalar dependências\n",
        "!pip install -q streamlit pyngrok\n",
        "\n",
        "# === Digite seu token de forma segura ===\n",
        "from getpass import getpass\n",
        "NGROK_TOKEN = getpass(\"Cole aqui o seu NGROK_AUTH_TOKEN: \")\n",
        "\n",
        "from pyngrok import ngrok\n",
        "\n",
        "# ngrok.set_auth_token(NGROK_TOKEN)\n",
        "ngrok.set_auth_token(NGROK_TOKEN)\n",
        "\n",
        "# Abrir túnel para a porta do Streamlit\n",
        "public_url = ngrok.connect(8501)\n",
        "print(\"URL pública:\", public_url.public_url)\n",
        "\n",
        "# Rodar o Streamlit em segundo plano\n",
        "!streamlit run app.py --server.port 8501 --server.address 0.0.0.0 &\n"
      ]
    }
  ]
}